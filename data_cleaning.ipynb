{
 "cells": [
  {
   "cell_type": "code",
   "execution_count": 1,
   "metadata": {},
   "outputs": [],
   "source": [
    "# import packages\n",
    "import pandas as pd\n",
    "import matplotlib.pyplot as plt"
   ]
  },
  {
   "cell_type": "code",
   "execution_count": 2,
   "metadata": {},
   "outputs": [],
   "source": [
    "# import news data set \n",
    "path = \"Data/news.csv\"\n",
    "news = pd.read_csv(path)"
   ]
  },
  {
   "cell_type": "code",
   "execution_count": 3,
   "metadata": {},
   "outputs": [
    {
     "data": {
      "text/html": [
       "<div>\n",
       "<style scoped>\n",
       "    .dataframe tbody tr th:only-of-type {\n",
       "        vertical-align: middle;\n",
       "    }\n",
       "\n",
       "    .dataframe tbody tr th {\n",
       "        vertical-align: top;\n",
       "    }\n",
       "\n",
       "    .dataframe thead th {\n",
       "        text-align: right;\n",
       "    }\n",
       "</style>\n",
       "<table border=\"1\" class=\"dataframe\">\n",
       "  <thead>\n",
       "    <tr style=\"text-align: right;\">\n",
       "      <th></th>\n",
       "      <th>Unnamed: 0</th>\n",
       "      <th>title</th>\n",
       "      <th>text</th>\n",
       "      <th>label</th>\n",
       "    </tr>\n",
       "  </thead>\n",
       "  <tbody>\n",
       "    <tr>\n",
       "      <th>0</th>\n",
       "      <td>8476</td>\n",
       "      <td>You Can Smell Hillary’s Fear</td>\n",
       "      <td>Daniel Greenfield, a Shillman Journalism Fello...</td>\n",
       "      <td>FAKE</td>\n",
       "    </tr>\n",
       "    <tr>\n",
       "      <th>1</th>\n",
       "      <td>10294</td>\n",
       "      <td>Watch The Exact Moment Paul Ryan Committed Pol...</td>\n",
       "      <td>Google Pinterest Digg Linkedin Reddit Stumbleu...</td>\n",
       "      <td>FAKE</td>\n",
       "    </tr>\n",
       "    <tr>\n",
       "      <th>2</th>\n",
       "      <td>3608</td>\n",
       "      <td>Kerry to go to Paris in gesture of sympathy</td>\n",
       "      <td>U.S. Secretary of State John F. Kerry said Mon...</td>\n",
       "      <td>REAL</td>\n",
       "    </tr>\n",
       "    <tr>\n",
       "      <th>3</th>\n",
       "      <td>10142</td>\n",
       "      <td>Bernie supporters on Twitter erupt in anger ag...</td>\n",
       "      <td>— Kaydee King (@KaydeeKing) November 9, 2016 T...</td>\n",
       "      <td>FAKE</td>\n",
       "    </tr>\n",
       "    <tr>\n",
       "      <th>4</th>\n",
       "      <td>875</td>\n",
       "      <td>The Battle of New York: Why This Primary Matters</td>\n",
       "      <td>It's primary day in New York and front-runners...</td>\n",
       "      <td>REAL</td>\n",
       "    </tr>\n",
       "  </tbody>\n",
       "</table>\n",
       "</div>"
      ],
      "text/plain": [
       "   Unnamed: 0                                              title  \\\n",
       "0        8476                       You Can Smell Hillary’s Fear   \n",
       "1       10294  Watch The Exact Moment Paul Ryan Committed Pol...   \n",
       "2        3608        Kerry to go to Paris in gesture of sympathy   \n",
       "3       10142  Bernie supporters on Twitter erupt in anger ag...   \n",
       "4         875   The Battle of New York: Why This Primary Matters   \n",
       "\n",
       "                                                text label  \n",
       "0  Daniel Greenfield, a Shillman Journalism Fello...  FAKE  \n",
       "1  Google Pinterest Digg Linkedin Reddit Stumbleu...  FAKE  \n",
       "2  U.S. Secretary of State John F. Kerry said Mon...  REAL  \n",
       "3  — Kaydee King (@KaydeeKing) November 9, 2016 T...  FAKE  \n",
       "4  It's primary day in New York and front-runners...  REAL  "
      ]
     },
     "execution_count": 3,
     "metadata": {},
     "output_type": "execute_result"
    }
   ],
   "source": [
    "news.head()"
   ]
  },
  {
   "cell_type": "code",
   "execution_count": 4,
   "metadata": {},
   "outputs": [],
   "source": [
    "# create length column\n",
    "# function takes in data, column name and new column name, creates length column\n",
    "def createLengthCol(data,data_column, new_col_name):\n",
    "    split_col = data[data_column].str.split()\n",
    "    print(data_column)\n",
    "    # find length of list\n",
    "    col_length = split_col.apply(len)\n",
    "    # add to news dataframe\n",
    "    data[new_col_name] = col_length\n",
    "    return data"
   ]
  },
  {
   "cell_type": "code",
   "execution_count": 5,
   "metadata": {},
   "outputs": [],
   "source": [
    "# create dummy variables and rename the columns appropriatly\n",
    "# function takes in data, column to turn into dummy values, old col name, new col name, and columns to be dropped (can be a lsist)\n",
    "def createDummy(data, dummy_col, old_name,new_name, drop_cols):\n",
    "    # convert REAL values to 0, and FAKE values to 1\n",
    "    data = data.join(pd.get_dummies(data[dummy_col])).drop(drop_cols,axis =1)\n",
    "    #Rename column to new_name\n",
    "    data = data.rename(columns={old_name:new_name})\n",
    "    return data"
   ]
  },
  {
   "cell_type": "code",
   "execution_count": 6,
   "metadata": {},
   "outputs": [],
   "source": [
    "# creates title length and body length columns\n",
    "# function that takes in data set\n",
    "def create_lengths(data):\n",
    "    if \"Unnamed: 0\" in data.columns:\n",
    "        #remove unwanted column\n",
    "        news.drop([\"Unnamed: 0\"],axis =1,inplace = True)\n",
    "    # rename columns\n",
    "    data = data.rename(columns = {\"title\":\"Article_title\", \"text\": \"Article_body\"})\n",
    "    #create title length\n",
    "    createLengthCol(data,\"Article_title\",\"Title_length\")\n",
    "    #create body length\n",
    "    createLengthCol(data,\"Article_body\",\"Body_length\")\n",
    "    return data"
   ]
  },
  {
   "cell_type": "code",
   "execution_count": 7,
   "metadata": {},
   "outputs": [
    {
     "data": {
      "text/html": [
       "<div>\n",
       "<style scoped>\n",
       "    .dataframe tbody tr th:only-of-type {\n",
       "        vertical-align: middle;\n",
       "    }\n",
       "\n",
       "    .dataframe tbody tr th {\n",
       "        vertical-align: top;\n",
       "    }\n",
       "\n",
       "    .dataframe thead th {\n",
       "        text-align: right;\n",
       "    }\n",
       "</style>\n",
       "<table border=\"1\" class=\"dataframe\">\n",
       "  <thead>\n",
       "    <tr style=\"text-align: right;\">\n",
       "      <th></th>\n",
       "      <th>Unnamed: 0</th>\n",
       "      <th>title</th>\n",
       "      <th>text</th>\n",
       "      <th>label</th>\n",
       "    </tr>\n",
       "  </thead>\n",
       "  <tbody>\n",
       "    <tr>\n",
       "      <th>0</th>\n",
       "      <td>8476</td>\n",
       "      <td>You Can Smell Hillary’s Fear</td>\n",
       "      <td>Daniel Greenfield, a Shillman Journalism Fello...</td>\n",
       "      <td>FAKE</td>\n",
       "    </tr>\n",
       "    <tr>\n",
       "      <th>1</th>\n",
       "      <td>10294</td>\n",
       "      <td>Watch The Exact Moment Paul Ryan Committed Pol...</td>\n",
       "      <td>Google Pinterest Digg Linkedin Reddit Stumbleu...</td>\n",
       "      <td>FAKE</td>\n",
       "    </tr>\n",
       "    <tr>\n",
       "      <th>2</th>\n",
       "      <td>3608</td>\n",
       "      <td>Kerry to go to Paris in gesture of sympathy</td>\n",
       "      <td>U.S. Secretary of State John F. Kerry said Mon...</td>\n",
       "      <td>REAL</td>\n",
       "    </tr>\n",
       "    <tr>\n",
       "      <th>3</th>\n",
       "      <td>10142</td>\n",
       "      <td>Bernie supporters on Twitter erupt in anger ag...</td>\n",
       "      <td>— Kaydee King (@KaydeeKing) November 9, 2016 T...</td>\n",
       "      <td>FAKE</td>\n",
       "    </tr>\n",
       "    <tr>\n",
       "      <th>4</th>\n",
       "      <td>875</td>\n",
       "      <td>The Battle of New York: Why This Primary Matters</td>\n",
       "      <td>It's primary day in New York and front-runners...</td>\n",
       "      <td>REAL</td>\n",
       "    </tr>\n",
       "  </tbody>\n",
       "</table>\n",
       "</div>"
      ],
      "text/plain": [
       "   Unnamed: 0                                              title  \\\n",
       "0        8476                       You Can Smell Hillary’s Fear   \n",
       "1       10294  Watch The Exact Moment Paul Ryan Committed Pol...   \n",
       "2        3608        Kerry to go to Paris in gesture of sympathy   \n",
       "3       10142  Bernie supporters on Twitter erupt in anger ag...   \n",
       "4         875   The Battle of New York: Why This Primary Matters   \n",
       "\n",
       "                                                text label  \n",
       "0  Daniel Greenfield, a Shillman Journalism Fello...  FAKE  \n",
       "1  Google Pinterest Digg Linkedin Reddit Stumbleu...  FAKE  \n",
       "2  U.S. Secretary of State John F. Kerry said Mon...  REAL  \n",
       "3  — Kaydee King (@KaydeeKing) November 9, 2016 T...  FAKE  \n",
       "4  It's primary day in New York and front-runners...  REAL  "
      ]
     },
     "execution_count": 7,
     "metadata": {},
     "output_type": "execute_result"
    }
   ],
   "source": [
    "news.head(5)"
   ]
  },
  {
   "cell_type": "code",
   "execution_count": 8,
   "metadata": {},
   "outputs": [
    {
     "name": "stdout",
     "output_type": "stream",
     "text": [
      "Article_title\n",
      "Article_body\n"
     ]
    }
   ],
   "source": [
    "# create length variables\n",
    "news = create_lengths(news)\n",
    "# create dummy values, real = 0,fake  = 1\n",
    "news = createDummy(news,\"label\",\"FAKE\",\"Target\",[\"label\",\"REAL\"])"
   ]
  },
  {
   "cell_type": "code",
   "execution_count": 9,
   "metadata": {},
   "outputs": [
    {
     "data": {
      "text/plain": [
       "(6335, 5)"
      ]
     },
     "execution_count": 9,
     "metadata": {},
     "output_type": "execute_result"
    }
   ],
   "source": [
    "# remove new line characters\n",
    "news = news.replace(r'\\n',' ', regex=True)\n",
    "news.shape"
   ]
  },
  {
   "cell_type": "code",
   "execution_count": 10,
   "metadata": {},
   "outputs": [],
   "source": [
    "news[\"Article_title\"]= news[\"Article_title\"].replace(u\"\\u2019\",\"'\",regex = True).replace(u\"\\u2018\",\"'\",regex=True).replace('\\u2013', '-',regex = True)"
   ]
  },
  {
   "cell_type": "code",
   "execution_count": 11,
   "metadata": {},
   "outputs": [],
   "source": [
    "news[\"Article_body\"]= news[\"Article_body\"].replace(u\"\\u2019\",\"'\",regex = True).replace(u\"\\u2018\",\"'\",regex=True).replace('\\u2013', '-',regex = True)"
   ]
  },
  {
   "cell_type": "code",
   "execution_count": 12,
   "metadata": {},
   "outputs": [
    {
     "data": {
      "text/plain": [
       "(6299, 5)"
      ]
     },
     "execution_count": 12,
     "metadata": {},
     "output_type": "execute_result"
    }
   ],
   "source": [
    "# remove all any columns that have 0 body length\n",
    "news = news[news[\"Body_length\"] != 0 ]\n",
    "news.shape"
   ]
  },
  {
   "cell_type": "code",
   "execution_count": 13,
   "metadata": {},
   "outputs": [
    {
     "data": {
      "text/plain": [
       "(6270, 5)"
      ]
     },
     "execution_count": 13,
     "metadata": {},
     "output_type": "execute_result"
    }
   ],
   "source": [
    "# remove any rows that have a title length of less than 3\n",
    "news = news[news[\"Title_length\"]>=3]\n",
    "news.shape"
   ]
  },
  {
   "cell_type": "code",
   "execution_count": 14,
   "metadata": {},
   "outputs": [
    {
     "data": {
      "text/plain": [
       "(6190, 5)"
      ]
     },
     "execution_count": 14,
     "metadata": {},
     "output_type": "execute_result"
    }
   ],
   "source": [
    "# remove any rows that have the same article name\n",
    "news = news.drop_duplicates(subset = \"Article_title\")\n",
    "news.shape"
   ]
  },
  {
   "cell_type": "code",
   "execution_count": 15,
   "metadata": {},
   "outputs": [
    {
     "data": {
      "text/plain": [
       "(5983, 5)"
      ]
     },
     "execution_count": 15,
     "metadata": {},
     "output_type": "execute_result"
    }
   ],
   "source": [
    "# remove any rows that have the same article body\n",
    "news = news.drop_duplicates(subset = \"Article_body\")\n",
    "news.shape"
   ]
  },
  {
   "cell_type": "code",
   "execution_count": 16,
   "metadata": {},
   "outputs": [],
   "source": [
    "news.reset_index(drop=True,inplace=True)"
   ]
  },
  {
   "cell_type": "code",
   "execution_count": 17,
   "metadata": {},
   "outputs": [
    {
     "name": "stderr",
     "output_type": "stream",
     "text": [
      "C:\\Users\\ivana\\Anaconda3\\lib\\site-packages\\xlsxwriter\\worksheet.py:941: UserWarning: Ignoring URL 'https://web.archive.org/web/20161109183253/http://www.huffingtonpost.com%20They%20pretend%20Trump's%20win%20is%20a%20victory%20for%20bigots,%20instead%20of%20a%20defeat%20for%20the%20aristocracy%20('Wall%20Street',%20'The%20Establishment',%20or%20America's%20billionaires%20and%20their%20agents%20such%20as%20lobbyists%20and%20the%20leading%20politicians).%20However,%20a%20close%20look%20at%20the%20evidence%20shows%20Huffington%20Post%20to%20be%20wrong:%20Trump's%20win%20was%20overwhelmingly%20driven%20by%20Americans'%20repudiation%20of%20the%20aristocracy%20itself%20(such%20as,%20for%20example,%20repudiation%20of%20the%20Institute%20that%20runs%20Huffington%20Post's%20neoconservative%20international%20edition,%20World%20Post%20,%20the%20Berggruen%20Institute%20(including%20Eric%20Schmidt%20,%20Lawrence%20Summers%20,%20Fareed%20Zakaria%20,%20Arianna%20Huffington,%20Nicholas%20Berggruen%20,%20Ernesto%20Zedillo%20,%20Carl%20Bildt,%20Niall%20Ferguson,%20and%20Joseph%20Nye%20,%20all%20being%20proponents%20of%20Obama's%20building%20war%20against%20Russia%20—%20such%20as%20:%20“To%20confront%20Putin,%20Europe%20will%20have%20to%20make%20changes%20that%20will%20be%20deeply%20controversial%20on%20a%20continent%20long%20committed%20to%20environmentalism%20and%20marked%20by%20an%20aversion%20to%20the%20use%20of%20force”).%20And,%20as%20far%20as%20global%20warming%20is%20concerned,%20which%20is%20a%20real%20problem%20about%20Trump,%20it's%20also%20very%20much%20and%20demonstrably%20—%20not%20merely%20in%20words%20—%20a%20real%20problem%20about%20Hillary%20too%20(and%20one%20that%20outside%20the%20context%20of%20the%20Presidential%20campaign%20has%20even%20been%20courageously%20reported%20by%20some%20of%20HuffPo's%20own%20reporters%20),%20but%20HuffPo%20and%20other%20Democratic%20Party%20propagandists%20pretend%20there's%20reason%20to%20believe%20that%20Trump's%20actions%20would%20be%20even%20worse%20than%20hers%20have%20been,%20and%20HuffPo's%20readers%20thus%20end%20up%20being%20little%20else%20than%20Democratic%20Party%20suckers%20who%20feel%20satisfied%20in%20their%20'news'%20reading%20to%20soak%20up%20what%20is%20almost%20entirely%20Democratic%20Party%20propaganda,%20which%20means%20the%20propaganda%20emanating%20out%20of%20the%20White%20House%20whenever%20a%20Democrat%20resides%20there%20—%20sort%20of%20like%20a%20Democratic%20Party%20version%20of%20the%20Republican%20Party's%20Fox%20'News'.%20The%20aristocracy%20(%20all%20of%20it,%20both%20its%20Republican%20and%20its%20Democratic%20Party%20branches)%20continue%20their%20campaign,%20and%20expect%20to%20crush%20their%20opposition%20—%20the%20public%20(of%20all%20parties).%20And%20that's%20what%20a%20close%20look%20at%20the%20evidence%20shows%20explains%20Trump's%20win%20—%20not%20bigotry%20on%20the%20part%20of%20the%20American%20public.%20Bigotry%20is%20a%20huge%20problem%20in%20every%20society,%20but%20especially%20amongst%20the%20aristocracy,%20who%20love%20to%20pretend%20that%20it's%20mainly%20a%20problem%20'down%20below'%20—%20so%20that%20they%20can%20continue%20to%20exploit%20the%20public%20while%20claiming%20to%20be%20superior%20to%20it.%20That's%20the%20Big%20Lie,%20which%20Obama%20and%20the%20Clintons%20—%20and%20Huffington%20Post%20—%20promote%20and%20get%20paid%20very%20well%20to%20promote.%20Their%20campaign%20never%20ends.%20Only%20the%20personnel%20do.' with link or location/anchor > 2079 characters since it exceeds Excel's limit for URLS\n",
      "  warn(\"Ignoring URL '%s' with link or location/anchor > %d \"\n",
      "C:\\Users\\ivana\\Anaconda3\\lib\\site-packages\\xlsxwriter\\worksheet.py:941: UserWarning: Ignoring URL 'https://twitter.com/eric_braverman%207.%20On%20Doug%20Band%20of%20the%20Foundation:%20He%20was%20the%20CEO%20of%20Teneo,%20a%20global%20advisory%20firm%20which%20allowed%20him%20to%20mix%20Clinton%20donors,%20foreign%20companies%20with%20Clinton's%20work%20as%20Secretary%20of%20State.%20Huma%20Abedin%20was%20a%20paid%20advisor%20to%20the%20company.%20The%20Senate%20Judiciary%20Committee%20is%20investigating%20the%20alliance%20between%20Abedin,%20Teneo,%20and%20the%20Clinton%20Foundation%20aides.%20There%20are%20many%20articles%20online%20saying%20Braverman%20had%20fled%20to%20the%20Russian%20Embassy%20in%20New%20York%20asking%20for%20asylum,%20but%20I%20do%20not%20feel%20comfortable%20with%20stating%20that%20as%20a%20FACT%20now.%20%20Now,%20new%20WikiLeaks%20emails%20reveal%20additional%20details%20behind%20the%20the%20man,%20Eric%20Braverman,%20who%20was%20brought%20in%20as%20CEO%20by%20Chelsea%20to%20change%20the%20controversial%20practices%20of%20the%20Foundation%20but%20abruptly%20resigned%20a%20short%20time%20later%20after%20being%20pushed%20out%20by%20long-time%20Clinton%20loyalists%20who%20had%20apparently%20grown%20very%20comfortable%20with%20the%20status%20quo.%20Below%20is%20the%20new%20email%20exchange%20which%20begins%20when%20Neera%20Tanden%20warns%20John%20Podesta%20to%20“keep%20tabs%20on%20Doug%20Band”%20who%20she%20assumed%20was%20the%20insider%20who%20told%20NBC%20to%20“follow%20the%20money%20and%20find%20the%20real%20HRC%20scandal.”%20Interestingly,%20John%20Podesta%20writes%20back%20quickly%20to%20identify%20the%20real%20source%20as%20former%20Clinton%20Foundation%20CEO%20Eric%20Braverman%20which%20seems%20to%20be%20shocking%20to%20Tanden%20who%20replies%20simply,%20“Holy%20Moses.”%20%20Posted%20October%2025th,%202016%20by%20Iron%20Mike%20CAUTION:%20Since%20we%20can't%20trust%20the%20media,%20we%20report%20this%20story%20from%20non-mainstream%20sources%20….%20Eric%20Braverman%20-%20a%20Yale%20lawyer%20-%20was%20brought%20into%20the%20Clinton%20Foundation%20“to%20clean%20it%20up”%20.%20His%20salary%20in%202015%20was%20$395K%20plus%20bonuses.%20Of%20course%20the%20Clintons%20didn't%20really%20want%20it%20cleaned%20up,%20-%20just%20to%20LOOK%20cleaned%20up%20….%20Braverman%20was%20dumped%20after%202%20years.%20%20http://rabidrepublicanblog.com/is-eric-braverman-terrified-for-his-life/%20%20Eric%20Braverman%20was%20chief%20executive%20officer%20of%20the%20Clinton%20Foundation%20from%202013%20to%202015.%20At%20the%20Foundation,%20Braverman%20led%20an%20effort%20to%20help%20ensure%20long-term%20sustainability%20-%20securing%20an%20endowment,%20transforming%20the%20organization's%20use%20of%20data,%20establishing%20governance%20practices%20to%20reflect%20changing%20laws%20and%20public%20expectations,%20consolidating%20entities,%20and%20creating%20professional%20development%20for%20staff.%20Previously,%20Braverman%20served%20as%20a%20partner%20at%20McKinsey%20&%20Company,%20where%20he%20advised%20leaders%20in%20the%20public,%20private,%20and%20non-profit%20sectors%20on%20strategy,%20organization,%20and%20operations.%20Named%20by%20Fortune%20magazine%20in%202010%20as%20one%20of%20the%20“40%20Most%20Influential%20Leaders%20in%20Business”%20worldwide%20under%2040%20years%20old,%20Braverman%20co-founded%20McKinsey's%20public%20sector%20practice%20and%20directed%20its%20work%20on%20government%20innovation%20globally.%20He%20also%20served%20as%20an%20advisor%20on%20performance%20management%20and%20technology%20for%20President%20Obama's%20transition%20team%20in%202008.' with link or location/anchor > 2079 characters since it exceeds Excel's limit for URLS\n",
      "  warn(\"Ignoring URL '%s' with link or location/anchor > %d \"\n"
     ]
    }
   ],
   "source": [
    "# store in excel spreadsheet as turning into csv creates unwanted characters and tableau can read it right\n",
    "news.to_excel(\"Data/news_clean.xlsx\", na_rep = \"NAN\", encoding = \"utf-8-sig\")"
   ]
  },
  {
   "cell_type": "code",
   "execution_count": 18,
   "metadata": {},
   "outputs": [],
   "source": [
    "# # store in csv in case its needed\n",
    "# news.to_csv(\"Data/news_clean.csv\", na_rep = \"NAN\", encoding = \"utf-8-sig\")"
   ]
  },
  {
   "cell_type": "code",
   "execution_count": 19,
   "metadata": {},
   "outputs": [],
   "source": [
    "# read in second data set\n",
    "news2real = pd.read_csv(\"Data/news2real.csv\")\n",
    "news2fake = pd.read_csv(\"Data/news2fake.csv\")"
   ]
  },
  {
   "cell_type": "code",
   "execution_count": 20,
   "metadata": {},
   "outputs": [],
   "source": [
    "# add labels\n",
    "news2real[\"Target\"] = \"0\"\n",
    "news2fake[\"Target\"] = \"1\""
   ]
  },
  {
   "cell_type": "code",
   "execution_count": 21,
   "metadata": {},
   "outputs": [],
   "source": [
    "# join real and fake datasets\n",
    "news2 = pd.concat([news2real,news2fake])"
   ]
  },
  {
   "cell_type": "code",
   "execution_count": 22,
   "metadata": {},
   "outputs": [
    {
     "data": {
      "text/plain": [
       "(44898, 5)"
      ]
     },
     "execution_count": 22,
     "metadata": {},
     "output_type": "execute_result"
    }
   ],
   "source": [
    "news2.shape"
   ]
  },
  {
   "cell_type": "code",
   "execution_count": 23,
   "metadata": {},
   "outputs": [],
   "source": [
    "# remove columns that have the same text in title and text\n",
    "news2 = news2[news2[\"title\"]!= news2[\"text\"]]"
   ]
  },
  {
   "cell_type": "code",
   "execution_count": 24,
   "metadata": {},
   "outputs": [
    {
     "data": {
      "text/plain": [
       "(44889, 5)"
      ]
     },
     "execution_count": 24,
     "metadata": {},
     "output_type": "execute_result"
    }
   ],
   "source": [
    "news2.shape"
   ]
  },
  {
   "cell_type": "code",
   "execution_count": 25,
   "metadata": {},
   "outputs": [],
   "source": [
    "news2 = news2.reset_index(drop =True)"
   ]
  },
  {
   "cell_type": "code",
   "execution_count": 26,
   "metadata": {},
   "outputs": [],
   "source": [
    "# remove unwanted columns\n",
    "news2.drop([\"date\",\"subject\"],axis =1,inplace = True)"
   ]
  },
  {
   "cell_type": "code",
   "execution_count": 27,
   "metadata": {},
   "outputs": [
    {
     "name": "stdout",
     "output_type": "stream",
     "text": [
      "Article_title\n",
      "Article_body\n"
     ]
    }
   ],
   "source": [
    "# create title length and body length columns\n",
    "news2 = create_lengths(news2)"
   ]
  },
  {
   "cell_type": "code",
   "execution_count": 28,
   "metadata": {},
   "outputs": [
    {
     "data": {
      "text/plain": [
       "(44889, 5)"
      ]
     },
     "execution_count": 28,
     "metadata": {},
     "output_type": "execute_result"
    }
   ],
   "source": [
    "news2.shape"
   ]
  },
  {
   "cell_type": "code",
   "execution_count": 29,
   "metadata": {},
   "outputs": [],
   "source": [
    "# remove new line characters\n",
    "news2 = news2.replace(r'\\n',' ', regex=True)"
   ]
  },
  {
   "cell_type": "code",
   "execution_count": 30,
   "metadata": {},
   "outputs": [],
   "source": [
    "news2[\"Article_title\"]= news2[\"Article_title\"].replace(u\"\\u2019\",\"'\",regex = True).replace(u\"\\u2018\",\"'\",regex=True).replace('\\u2013', '-',regex = True)"
   ]
  },
  {
   "cell_type": "code",
   "execution_count": 31,
   "metadata": {},
   "outputs": [],
   "source": [
    "news2[\"Article_body\"]= news2[\"Article_body\"].replace(u\"\\u2019\",\"'\",regex = True).replace(u\"\\u2018\",\"'\",regex=True).replace('\\u2013', '-',regex = True)"
   ]
  },
  {
   "cell_type": "code",
   "execution_count": 32,
   "metadata": {},
   "outputs": [
    {
     "data": {
      "text/plain": [
       "(44889, 5)"
      ]
     },
     "execution_count": 32,
     "metadata": {},
     "output_type": "execute_result"
    }
   ],
   "source": [
    "news2.shape"
   ]
  },
  {
   "cell_type": "code",
   "execution_count": 33,
   "metadata": {},
   "outputs": [
    {
     "data": {
      "text/html": [
       "<div>\n",
       "<style scoped>\n",
       "    .dataframe tbody tr th:only-of-type {\n",
       "        vertical-align: middle;\n",
       "    }\n",
       "\n",
       "    .dataframe tbody tr th {\n",
       "        vertical-align: top;\n",
       "    }\n",
       "\n",
       "    .dataframe thead th {\n",
       "        text-align: right;\n",
       "    }\n",
       "</style>\n",
       "<table border=\"1\" class=\"dataframe\">\n",
       "  <thead>\n",
       "    <tr style=\"text-align: right;\">\n",
       "      <th></th>\n",
       "      <th>Article_title</th>\n",
       "      <th>Article_body</th>\n",
       "      <th>Target</th>\n",
       "      <th>Title_length</th>\n",
       "      <th>Body_length</th>\n",
       "    </tr>\n",
       "  </thead>\n",
       "  <tbody>\n",
       "    <tr>\n",
       "      <th>0</th>\n",
       "      <td>As U.S. budget fight looms, Republicans flip t...</td>\n",
       "      <td>WASHINGTON (Reuters) - The head of a conservat...</td>\n",
       "      <td>0</td>\n",
       "      <td>10</td>\n",
       "      <td>749</td>\n",
       "    </tr>\n",
       "    <tr>\n",
       "      <th>1</th>\n",
       "      <td>U.S. military to accept transgender recruits o...</td>\n",
       "      <td>WASHINGTON (Reuters) - Transgender people will...</td>\n",
       "      <td>0</td>\n",
       "      <td>9</td>\n",
       "      <td>624</td>\n",
       "    </tr>\n",
       "    <tr>\n",
       "      <th>2</th>\n",
       "      <td>Senior U.S. Republican senator: 'Let Mr. Muell...</td>\n",
       "      <td>WASHINGTON (Reuters) - The special counsel inv...</td>\n",
       "      <td>0</td>\n",
       "      <td>10</td>\n",
       "      <td>457</td>\n",
       "    </tr>\n",
       "    <tr>\n",
       "      <th>3</th>\n",
       "      <td>FBI Russia probe helped by Australian diplomat...</td>\n",
       "      <td>WASHINGTON (Reuters) - Trump campaign adviser ...</td>\n",
       "      <td>0</td>\n",
       "      <td>9</td>\n",
       "      <td>376</td>\n",
       "    </tr>\n",
       "    <tr>\n",
       "      <th>4</th>\n",
       "      <td>Trump wants Postal Service to charge 'much mor...</td>\n",
       "      <td>SEATTLE/WASHINGTON (Reuters) - President Donal...</td>\n",
       "      <td>0</td>\n",
       "      <td>11</td>\n",
       "      <td>852</td>\n",
       "    </tr>\n",
       "  </tbody>\n",
       "</table>\n",
       "</div>"
      ],
      "text/plain": [
       "                                       Article_title  \\\n",
       "0  As U.S. budget fight looms, Republicans flip t...   \n",
       "1  U.S. military to accept transgender recruits o...   \n",
       "2  Senior U.S. Republican senator: 'Let Mr. Muell...   \n",
       "3  FBI Russia probe helped by Australian diplomat...   \n",
       "4  Trump wants Postal Service to charge 'much mor...   \n",
       "\n",
       "                                        Article_body Target  Title_length  \\\n",
       "0  WASHINGTON (Reuters) - The head of a conservat...      0            10   \n",
       "1  WASHINGTON (Reuters) - Transgender people will...      0             9   \n",
       "2  WASHINGTON (Reuters) - The special counsel inv...      0            10   \n",
       "3  WASHINGTON (Reuters) - Trump campaign adviser ...      0             9   \n",
       "4  SEATTLE/WASHINGTON (Reuters) - President Donal...      0            11   \n",
       "\n",
       "   Body_length  \n",
       "0          749  \n",
       "1          624  \n",
       "2          457  \n",
       "3          376  \n",
       "4          852  "
      ]
     },
     "execution_count": 33,
     "metadata": {},
     "output_type": "execute_result"
    }
   ],
   "source": [
    "news2.head(5)"
   ]
  },
  {
   "cell_type": "code",
   "execution_count": 34,
   "metadata": {},
   "outputs": [
    {
     "data": {
      "text/plain": [
       "(44258, 5)"
      ]
     },
     "execution_count": 34,
     "metadata": {},
     "output_type": "execute_result"
    }
   ],
   "source": [
    "# remove all any columns that have 0 body length\n",
    "news2 = news2[news2[\"Body_length\"] != 0 ]\n",
    "news2.shape"
   ]
  },
  {
   "cell_type": "code",
   "execution_count": 35,
   "metadata": {},
   "outputs": [
    {
     "data": {
      "text/plain": [
       "(42677, 5)"
      ]
     },
     "execution_count": 35,
     "metadata": {},
     "output_type": "execute_result"
    }
   ],
   "source": [
    "# remove all any columns that have less than 50 body length\n",
    "news2 = news2[news2[\"Body_length\"] >= 50 ]\n",
    "news2.shape"
   ]
  },
  {
   "cell_type": "code",
   "execution_count": 36,
   "metadata": {},
   "outputs": [
    {
     "data": {
      "text/plain": [
       "(42676, 5)"
      ]
     },
     "execution_count": 36,
     "metadata": {},
     "output_type": "execute_result"
    }
   ],
   "source": [
    "# remove any rows that have a title length of less than 3\n",
    "news2 = news2[news2[\"Title_length\"]>=3]\n",
    "news2.shape"
   ]
  },
  {
   "cell_type": "code",
   "execution_count": 37,
   "metadata": {},
   "outputs": [
    {
     "data": {
      "text/plain": [
       "(37440, 5)"
      ]
     },
     "execution_count": 37,
     "metadata": {},
     "output_type": "execute_result"
    }
   ],
   "source": [
    "# found dupliacted articles \n",
    "news2.drop_duplicates(inplace=True)\n",
    "news2.shape"
   ]
  },
  {
   "cell_type": "code",
   "execution_count": 38,
   "metadata": {},
   "outputs": [
    {
     "data": {
      "text/plain": [
       "(37429, 5)"
      ]
     },
     "execution_count": 38,
     "metadata": {},
     "output_type": "execute_result"
    }
   ],
   "source": [
    "# remove any rows that have the same article body (but have different slightly different title names)\n",
    "news2.drop_duplicates(subset = \"Article_body\",inplace=True)\n",
    "news2.shape"
   ]
  },
  {
   "cell_type": "code",
   "execution_count": 39,
   "metadata": {},
   "outputs": [
    {
     "data": {
      "text/plain": [
       "(37057, 5)"
      ]
     },
     "execution_count": 39,
     "metadata": {},
     "output_type": "execute_result"
    }
   ],
   "source": [
    "# remove any rows that have the same article title but different body\n",
    "news2.drop_duplicates(subset = \"Article_title\",inplace=True)\n",
    "news2.shape"
   ]
  },
  {
   "cell_type": "code",
   "execution_count": 40,
   "metadata": {},
   "outputs": [
    {
     "data": {
      "text/html": [
       "<div>\n",
       "<style scoped>\n",
       "    .dataframe tbody tr th:only-of-type {\n",
       "        vertical-align: middle;\n",
       "    }\n",
       "\n",
       "    .dataframe tbody tr th {\n",
       "        vertical-align: top;\n",
       "    }\n",
       "\n",
       "    .dataframe thead th {\n",
       "        text-align: right;\n",
       "    }\n",
       "</style>\n",
       "<table border=\"1\" class=\"dataframe\">\n",
       "  <thead>\n",
       "    <tr style=\"text-align: right;\">\n",
       "      <th></th>\n",
       "      <th>Article_title</th>\n",
       "      <th>Article_body</th>\n",
       "      <th>Target</th>\n",
       "      <th>Title_length</th>\n",
       "      <th>Body_length</th>\n",
       "    </tr>\n",
       "  </thead>\n",
       "  <tbody>\n",
       "    <tr>\n",
       "      <th>0</th>\n",
       "      <td>As U.S. budget fight looms, Republicans flip t...</td>\n",
       "      <td>WASHINGTON (Reuters) - The head of a conservat...</td>\n",
       "      <td>0</td>\n",
       "      <td>10</td>\n",
       "      <td>749</td>\n",
       "    </tr>\n",
       "    <tr>\n",
       "      <th>1</th>\n",
       "      <td>U.S. military to accept transgender recruits o...</td>\n",
       "      <td>WASHINGTON (Reuters) - Transgender people will...</td>\n",
       "      <td>0</td>\n",
       "      <td>9</td>\n",
       "      <td>624</td>\n",
       "    </tr>\n",
       "    <tr>\n",
       "      <th>2</th>\n",
       "      <td>Senior U.S. Republican senator: 'Let Mr. Muell...</td>\n",
       "      <td>WASHINGTON (Reuters) - The special counsel inv...</td>\n",
       "      <td>0</td>\n",
       "      <td>10</td>\n",
       "      <td>457</td>\n",
       "    </tr>\n",
       "    <tr>\n",
       "      <th>3</th>\n",
       "      <td>FBI Russia probe helped by Australian diplomat...</td>\n",
       "      <td>WASHINGTON (Reuters) - Trump campaign adviser ...</td>\n",
       "      <td>0</td>\n",
       "      <td>9</td>\n",
       "      <td>376</td>\n",
       "    </tr>\n",
       "    <tr>\n",
       "      <th>4</th>\n",
       "      <td>Trump wants Postal Service to charge 'much mor...</td>\n",
       "      <td>SEATTLE/WASHINGTON (Reuters) - President Donal...</td>\n",
       "      <td>0</td>\n",
       "      <td>11</td>\n",
       "      <td>852</td>\n",
       "    </tr>\n",
       "  </tbody>\n",
       "</table>\n",
       "</div>"
      ],
      "text/plain": [
       "                                       Article_title  \\\n",
       "0  As U.S. budget fight looms, Republicans flip t...   \n",
       "1  U.S. military to accept transgender recruits o...   \n",
       "2  Senior U.S. Republican senator: 'Let Mr. Muell...   \n",
       "3  FBI Russia probe helped by Australian diplomat...   \n",
       "4  Trump wants Postal Service to charge 'much mor...   \n",
       "\n",
       "                                        Article_body Target  Title_length  \\\n",
       "0  WASHINGTON (Reuters) - The head of a conservat...      0            10   \n",
       "1  WASHINGTON (Reuters) - Transgender people will...      0             9   \n",
       "2  WASHINGTON (Reuters) - The special counsel inv...      0            10   \n",
       "3  WASHINGTON (Reuters) - Trump campaign adviser ...      0             9   \n",
       "4  SEATTLE/WASHINGTON (Reuters) - President Donal...      0            11   \n",
       "\n",
       "   Body_length  \n",
       "0          749  \n",
       "1          624  \n",
       "2          457  \n",
       "3          376  \n",
       "4          852  "
      ]
     },
     "execution_count": 40,
     "metadata": {},
     "output_type": "execute_result"
    }
   ],
   "source": [
    "news2.head(5)"
   ]
  },
  {
   "cell_type": "code",
   "execution_count": 41,
   "metadata": {},
   "outputs": [],
   "source": [
    "news2.reset_index(drop=True,inplace=True)"
   ]
  },
  {
   "cell_type": "code",
   "execution_count": 42,
   "metadata": {},
   "outputs": [],
   "source": [
    "# # store in csv in case its needed\n",
    "# news2.to_csv(\"Data/news2.csv\",encoding = \"utf-8-sig\", na_rep = \"NAN\")"
   ]
  },
  {
   "cell_type": "code",
   "execution_count": 43,
   "metadata": {},
   "outputs": [],
   "source": [
    "# join datasets together\n",
    "final_news = pd.concat([news,news2])\n",
    "final_news.dropna(inplace=True)"
   ]
  },
  {
   "cell_type": "code",
   "execution_count": 44,
   "metadata": {},
   "outputs": [],
   "source": [
    "final_news.reset_index(drop=True,inplace=True)"
   ]
  },
  {
   "cell_type": "code",
   "execution_count": 45,
   "metadata": {},
   "outputs": [
    {
     "data": {
      "text/plain": [
       "(43040, 5)"
      ]
     },
     "execution_count": 45,
     "metadata": {},
     "output_type": "execute_result"
    }
   ],
   "source": [
    "final_news.shape"
   ]
  },
  {
   "cell_type": "code",
   "execution_count": 46,
   "metadata": {},
   "outputs": [
    {
     "data": {
      "text/html": [
       "<div>\n",
       "<style scoped>\n",
       "    .dataframe tbody tr th:only-of-type {\n",
       "        vertical-align: middle;\n",
       "    }\n",
       "\n",
       "    .dataframe tbody tr th {\n",
       "        vertical-align: top;\n",
       "    }\n",
       "\n",
       "    .dataframe thead th {\n",
       "        text-align: right;\n",
       "    }\n",
       "</style>\n",
       "<table border=\"1\" class=\"dataframe\">\n",
       "  <thead>\n",
       "    <tr style=\"text-align: right;\">\n",
       "      <th></th>\n",
       "      <th>Article_title</th>\n",
       "      <th>Article_body</th>\n",
       "      <th>Title_length</th>\n",
       "      <th>Body_length</th>\n",
       "      <th>Target</th>\n",
       "    </tr>\n",
       "  </thead>\n",
       "  <tbody>\n",
       "    <tr>\n",
       "      <th>0</th>\n",
       "      <td>You Can Smell Hillary's Fear</td>\n",
       "      <td>Daniel Greenfield, a Shillman Journalism Fello...</td>\n",
       "      <td>5</td>\n",
       "      <td>1296</td>\n",
       "      <td>1</td>\n",
       "    </tr>\n",
       "    <tr>\n",
       "      <th>1</th>\n",
       "      <td>Watch The Exact Moment Paul Ryan Committed Pol...</td>\n",
       "      <td>Google Pinterest Digg Linkedin Reddit Stumbleu...</td>\n",
       "      <td>14</td>\n",
       "      <td>446</td>\n",
       "      <td>1</td>\n",
       "    </tr>\n",
       "    <tr>\n",
       "      <th>2</th>\n",
       "      <td>Kerry to go to Paris in gesture of sympathy</td>\n",
       "      <td>U.S. Secretary of State John F. Kerry said Mon...</td>\n",
       "      <td>9</td>\n",
       "      <td>431</td>\n",
       "      <td>0</td>\n",
       "    </tr>\n",
       "    <tr>\n",
       "      <th>3</th>\n",
       "      <td>Bernie supporters on Twitter erupt in anger ag...</td>\n",
       "      <td>— Kaydee King (@KaydeeKing) November 9, 2016 T...</td>\n",
       "      <td>15</td>\n",
       "      <td>404</td>\n",
       "      <td>1</td>\n",
       "    </tr>\n",
       "    <tr>\n",
       "      <th>4</th>\n",
       "      <td>The Battle of New York: Why This Primary Matters</td>\n",
       "      <td>It's primary day in New York and front-runners...</td>\n",
       "      <td>9</td>\n",
       "      <td>317</td>\n",
       "      <td>0</td>\n",
       "    </tr>\n",
       "  </tbody>\n",
       "</table>\n",
       "</div>"
      ],
      "text/plain": [
       "                                       Article_title  \\\n",
       "0                       You Can Smell Hillary's Fear   \n",
       "1  Watch The Exact Moment Paul Ryan Committed Pol...   \n",
       "2        Kerry to go to Paris in gesture of sympathy   \n",
       "3  Bernie supporters on Twitter erupt in anger ag...   \n",
       "4   The Battle of New York: Why This Primary Matters   \n",
       "\n",
       "                                        Article_body  Title_length  \\\n",
       "0  Daniel Greenfield, a Shillman Journalism Fello...             5   \n",
       "1  Google Pinterest Digg Linkedin Reddit Stumbleu...            14   \n",
       "2  U.S. Secretary of State John F. Kerry said Mon...             9   \n",
       "3  — Kaydee King (@KaydeeKing) November 9, 2016 T...            15   \n",
       "4  It's primary day in New York and front-runners...             9   \n",
       "\n",
       "   Body_length Target  \n",
       "0         1296      1  \n",
       "1          446      1  \n",
       "2          431      0  \n",
       "3          404      1  \n",
       "4          317      0  "
      ]
     },
     "execution_count": 46,
     "metadata": {},
     "output_type": "execute_result"
    }
   ],
   "source": [
    "final_news.head(5)"
   ]
  },
  {
   "cell_type": "code",
   "execution_count": 47,
   "metadata": {},
   "outputs": [],
   "source": [
    "# adding new columns for analysis\n",
    "final_news[\"Number_of_tweets\"] = final_news[\"Article_body\"].str.count('@')"
   ]
  },
  {
   "cell_type": "code",
   "execution_count": 48,
   "metadata": {},
   "outputs": [],
   "source": [
    "final_news[\"corpus\"] = final_news[\"Article_title\"] +\" \" +final_news[\"Article_body\"]"
   ]
  },
  {
   "cell_type": "code",
   "execution_count": 49,
   "metadata": {},
   "outputs": [],
   "source": [
    "# remove all non ascii characters\n",
    "final_news = final_news[final_news[\"corpus\"].apply(str.isascii)]"
   ]
  },
  {
   "cell_type": "code",
   "execution_count": 50,
   "metadata": {},
   "outputs": [
    {
     "data": {
      "text/plain": [
       "0"
      ]
     },
     "execution_count": 50,
     "metadata": {},
     "output_type": "execute_result"
    }
   ],
   "source": [
    "# check with an example\n",
    "final_news[\"corpus\"].str.contains(\"کدآمایی\").sum()"
   ]
  },
  {
   "cell_type": "code",
   "execution_count": 51,
   "metadata": {},
   "outputs": [],
   "source": [
    "# remove tweet names\n",
    "def remove_tweets(column):\n",
    "    list_column = column.split()\n",
    "    for word in list_column:\n",
    "        if \"@\" in word:\n",
    "            list_column.remove(word)\n",
    "    column = \" \".join(list_column)\n",
    "    return column"
   ]
  },
  {
   "cell_type": "code",
   "execution_count": 52,
   "metadata": {},
   "outputs": [],
   "source": [
    "final_news[\"corpus\"] = final_news[\"corpus\"].apply(remove_tweets)"
   ]
  },
  {
   "cell_type": "code",
   "execution_count": 53,
   "metadata": {},
   "outputs": [
    {
     "data": {
      "text/plain": [
       "0      20880\n",
       "1       1489\n",
       "2        702\n",
       "3        346\n",
       "4        199\n",
       "       ...  \n",
       "66         1\n",
       "131        1\n",
       "68         1\n",
       "58         1\n",
       "60         1\n",
       "Name: Number_of_tweets, Length: 61, dtype: int64"
      ]
     },
     "execution_count": 53,
     "metadata": {},
     "output_type": "execute_result"
    }
   ],
   "source": [
    "final_news[\"Number_of_tweets\"].value_counts()"
   ]
  },
  {
   "cell_type": "code",
   "execution_count": 54,
   "metadata": {},
   "outputs": [],
   "source": [
    "# remove rows that have quote more than 20 tweets \n",
    "final_news = final_news[final_news[\"Number_of_tweets\"]<20]"
   ]
  },
  {
   "cell_type": "code",
   "execution_count": 55,
   "metadata": {},
   "outputs": [
    {
     "data": {
      "text/html": [
       "<div>\n",
       "<style scoped>\n",
       "    .dataframe tbody tr th:only-of-type {\n",
       "        vertical-align: middle;\n",
       "    }\n",
       "\n",
       "    .dataframe tbody tr th {\n",
       "        vertical-align: top;\n",
       "    }\n",
       "\n",
       "    .dataframe thead th {\n",
       "        text-align: right;\n",
       "    }\n",
       "</style>\n",
       "<table border=\"1\" class=\"dataframe\">\n",
       "  <thead>\n",
       "    <tr style=\"text-align: right;\">\n",
       "      <th></th>\n",
       "      <th>Article_title</th>\n",
       "      <th>Article_body</th>\n",
       "      <th>Title_length</th>\n",
       "      <th>Body_length</th>\n",
       "      <th>Target</th>\n",
       "      <th>Number_of_tweets</th>\n",
       "      <th>corpus</th>\n",
       "    </tr>\n",
       "  </thead>\n",
       "  <tbody>\n",
       "    <tr>\n",
       "      <th>4</th>\n",
       "      <td>The Battle of New York: Why This Primary Matters</td>\n",
       "      <td>It's primary day in New York and front-runners...</td>\n",
       "      <td>9</td>\n",
       "      <td>317</td>\n",
       "      <td>0</td>\n",
       "      <td>0</td>\n",
       "      <td>The Battle of New York: Why This Primary Matte...</td>\n",
       "    </tr>\n",
       "    <tr>\n",
       "      <th>13</th>\n",
       "      <td>Trump takes on Cruz, but lightly</td>\n",
       "      <td>Killing Obama administration rules, dismantlin...</td>\n",
       "      <td>6</td>\n",
       "      <td>17</td>\n",
       "      <td>0</td>\n",
       "      <td>0</td>\n",
       "      <td>Trump takes on Cruz, but lightly Killing Obama...</td>\n",
       "    </tr>\n",
       "    <tr>\n",
       "      <th>24</th>\n",
       "      <td>Anti-Trump forces seek last-ditch delegate revolt</td>\n",
       "      <td>Washington (CNN) The faction of the GOP that i...</td>\n",
       "      <td>6</td>\n",
       "      <td>1234</td>\n",
       "      <td>0</td>\n",
       "      <td>0</td>\n",
       "      <td>Anti-Trump forces seek last-ditch delegate rev...</td>\n",
       "    </tr>\n",
       "    <tr>\n",
       "      <th>29</th>\n",
       "      <td>GOP insiders: Carly crushed it</td>\n",
       "      <td>On this day in 1973, J. Fred Buzhardt, a lawye...</td>\n",
       "      <td>5</td>\n",
       "      <td>28</td>\n",
       "      <td>0</td>\n",
       "      <td>0</td>\n",
       "      <td>GOP insiders: Carly crushed it On this day in ...</td>\n",
       "    </tr>\n",
       "    <tr>\n",
       "      <th>36</th>\n",
       "      <td>Donald Groped Hillary in 2005! Trump and Weine...</td>\n",
       "      <td>Topics: anthony weiner , presidential politics...</td>\n",
       "      <td>11</td>\n",
       "      <td>259</td>\n",
       "      <td>1</td>\n",
       "      <td>0</td>\n",
       "      <td>Donald Groped Hillary in 2005! Trump and Weine...</td>\n",
       "    </tr>\n",
       "  </tbody>\n",
       "</table>\n",
       "</div>"
      ],
      "text/plain": [
       "                                        Article_title  \\\n",
       "4    The Battle of New York: Why This Primary Matters   \n",
       "13                   Trump takes on Cruz, but lightly   \n",
       "24  Anti-Trump forces seek last-ditch delegate revolt   \n",
       "29                     GOP insiders: Carly crushed it   \n",
       "36  Donald Groped Hillary in 2005! Trump and Weine...   \n",
       "\n",
       "                                         Article_body  Title_length  \\\n",
       "4   It's primary day in New York and front-runners...             9   \n",
       "13  Killing Obama administration rules, dismantlin...             6   \n",
       "24  Washington (CNN) The faction of the GOP that i...             6   \n",
       "29  On this day in 1973, J. Fred Buzhardt, a lawye...             5   \n",
       "36  Topics: anthony weiner , presidential politics...            11   \n",
       "\n",
       "    Body_length Target  Number_of_tweets  \\\n",
       "4           317      0                 0   \n",
       "13           17      0                 0   \n",
       "24         1234      0                 0   \n",
       "29           28      0                 0   \n",
       "36          259      1                 0   \n",
       "\n",
       "                                               corpus  \n",
       "4   The Battle of New York: Why This Primary Matte...  \n",
       "13  Trump takes on Cruz, but lightly Killing Obama...  \n",
       "24  Anti-Trump forces seek last-ditch delegate rev...  \n",
       "29  GOP insiders: Carly crushed it On this day in ...  \n",
       "36  Donald Groped Hillary in 2005! Trump and Weine...  "
      ]
     },
     "execution_count": 55,
     "metadata": {},
     "output_type": "execute_result"
    }
   ],
   "source": [
    "final_news.head(5)"
   ]
  },
  {
   "cell_type": "code",
   "execution_count": 56,
   "metadata": {},
   "outputs": [],
   "source": [
    "# store in excel spreadsheet as turning into csv creates unwanted characters and tableau can read it right\n",
    "final_news.to_excel(\"Data/final_news.xlsx\",encoding = \"utf-8-sig\",sheet_name=\"Fake_news_data_set\", na_rep = \"NAN\")"
   ]
  },
  {
   "cell_type": "code",
   "execution_count": 57,
   "metadata": {},
   "outputs": [],
   "source": [
    "# # store in csv in case its needed\n",
    "# final_news.to_csv(\"Data/final_news.csv\",encoding = \"utf-8-sig\", na_rep = \"NAN\")"
   ]
  },
  {
   "cell_type": "code",
   "execution_count": 62,
   "metadata": {},
   "outputs": [
    {
     "data": {
      "text/html": [
       "<div>\n",
       "<style scoped>\n",
       "    .dataframe tbody tr th:only-of-type {\n",
       "        vertical-align: middle;\n",
       "    }\n",
       "\n",
       "    .dataframe tbody tr th {\n",
       "        vertical-align: top;\n",
       "    }\n",
       "\n",
       "    .dataframe thead th {\n",
       "        text-align: right;\n",
       "    }\n",
       "</style>\n",
       "<table border=\"1\" class=\"dataframe\">\n",
       "  <thead>\n",
       "    <tr style=\"text-align: right;\">\n",
       "      <th></th>\n",
       "      <th>Article_title</th>\n",
       "      <th>Article_body</th>\n",
       "      <th>Title_length</th>\n",
       "      <th>Body_length</th>\n",
       "      <th>Target</th>\n",
       "      <th>Number_of_tweets</th>\n",
       "      <th>corpus</th>\n",
       "    </tr>\n",
       "  </thead>\n",
       "  <tbody>\n",
       "    <tr>\n",
       "      <th>14505</th>\n",
       "      <td>Clinton leads Trump by 12 points ahead of Repu...</td>\n",
       "      <td>NEW YORK (Reuters) - Republican presidential c...</td>\n",
       "      <td>12</td>\n",
       "      <td>353</td>\n",
       "      <td>0</td>\n",
       "      <td>0</td>\n",
       "      <td>Clinton leads Trump by 12 points ahead of Repu...</td>\n",
       "    </tr>\n",
       "    <tr>\n",
       "      <th>37239</th>\n",
       "      <td>NEWT GINGRICH Gives Best Ever Solution to Stop...</td>\n",
       "      <td>Newt Gingrich:  You start putting a few people...</td>\n",
       "      <td>11</td>\n",
       "      <td>339</td>\n",
       "      <td>1</td>\n",
       "      <td>2</td>\n",
       "      <td>NEWT GINGRICH Gives Best Ever Solution to Stop...</td>\n",
       "    </tr>\n",
       "    <tr>\n",
       "      <th>36529</th>\n",
       "      <td>Breaking: President Trump Pardons Sheriff Joe ...</td>\n",
       "      <td>Reuters is reporting: U.S. President Donald T...</td>\n",
       "      <td>8</td>\n",
       "      <td>119</td>\n",
       "      <td>1</td>\n",
       "      <td>1</td>\n",
       "      <td>Breaking: President Trump Pardons Sheriff Joe ...</td>\n",
       "    </tr>\n",
       "    <tr>\n",
       "      <th>19293</th>\n",
       "      <td>Barely a quarter of Catalans want to pursue sp...</td>\n",
       "      <td>MADRID (Reuters) - Barely a quarter of Catalan...</td>\n",
       "      <td>12</td>\n",
       "      <td>337</td>\n",
       "      <td>0</td>\n",
       "      <td>0</td>\n",
       "      <td>Barely a quarter of Catalans want to pursue sp...</td>\n",
       "    </tr>\n",
       "    <tr>\n",
       "      <th>32526</th>\n",
       "      <td>Watch Morning Joe's Mika DESTROY Paul Ryan Fo...</td>\n",
       "      <td>Republican House Speaker Paul Ryan has been ge...</td>\n",
       "      <td>14</td>\n",
       "      <td>381</td>\n",
       "      <td>1</td>\n",
       "      <td>0</td>\n",
       "      <td>Watch Morning Joe's Mika DESTROY Paul Ryan For...</td>\n",
       "    </tr>\n",
       "  </tbody>\n",
       "</table>\n",
       "</div>"
      ],
      "text/plain": [
       "                                           Article_title  \\\n",
       "14505  Clinton leads Trump by 12 points ahead of Repu...   \n",
       "37239  NEWT GINGRICH Gives Best Ever Solution to Stop...   \n",
       "36529  Breaking: President Trump Pardons Sheriff Joe ...   \n",
       "19293  Barely a quarter of Catalans want to pursue sp...   \n",
       "32526   Watch Morning Joe's Mika DESTROY Paul Ryan Fo...   \n",
       "\n",
       "                                            Article_body  Title_length  \\\n",
       "14505  NEW YORK (Reuters) - Republican presidential c...            12   \n",
       "37239  Newt Gingrich:  You start putting a few people...            11   \n",
       "36529   Reuters is reporting: U.S. President Donald T...             8   \n",
       "19293  MADRID (Reuters) - Barely a quarter of Catalan...            12   \n",
       "32526  Republican House Speaker Paul Ryan has been ge...            14   \n",
       "\n",
       "       Body_length Target  Number_of_tweets  \\\n",
       "14505          353      0                 0   \n",
       "37239          339      1                 2   \n",
       "36529          119      1                 1   \n",
       "19293          337      0                 0   \n",
       "32526          381      1                 0   \n",
       "\n",
       "                                                  corpus  \n",
       "14505  Clinton leads Trump by 12 points ahead of Repu...  \n",
       "37239  NEWT GINGRICH Gives Best Ever Solution to Stop...  \n",
       "36529  Breaking: President Trump Pardons Sheriff Joe ...  \n",
       "19293  Barely a quarter of Catalans want to pursue sp...  \n",
       "32526  Watch Morning Joe's Mika DESTROY Paul Ryan For...  "
      ]
     },
     "execution_count": 62,
     "metadata": {},
     "output_type": "execute_result"
    }
   ],
   "source": [
    "# create testing data (removed ignore_index = True due to error but instead added index = False when exporting the file)\n",
    "testing_data = final_news.sample(frac = 0.3,random_state= 42)\n",
    "testing_data.head()"
   ]
  },
  {
   "cell_type": "code",
   "execution_count": 63,
   "metadata": {},
   "outputs": [],
   "source": [
    "# # store in csv in case its needed\n",
    "# testing_data.to_csv(\"Data/testing_data.csv\",encoding = \"utf-8-sig\", na_rep = \"NAN\")"
   ]
  },
  {
   "cell_type": "code",
   "execution_count": 65,
   "metadata": {},
   "outputs": [],
   "source": [
    "# store in excel spreadsheet as turning into csv creates unwanted characters and tableau can read it right\n",
    "testing_data.to_excel(\"Data/testing_data.xlsx\",encoding = \"utf-8-sig\",sheet_name=\"Fake_news_data_set\", na_rep = \"NAN\", index = False)"
   ]
  },
  {
   "cell_type": "code",
   "execution_count": null,
   "metadata": {},
   "outputs": [],
   "source": []
  }
 ],
 "metadata": {
  "interpreter": {
   "hash": "493f12d9da97b462b23cdf6d969f0de37d476760406272d01afc8d67ae0e197c"
  },
  "kernelspec": {
   "display_name": "Python 3",
   "language": "python",
   "name": "python3"
  },
  "language_info": {
   "codemirror_mode": {
    "name": "ipython",
    "version": 3
   },
   "file_extension": ".py",
   "mimetype": "text/x-python",
   "name": "python",
   "nbconvert_exporter": "python",
   "pygments_lexer": "ipython3",
   "version": "3.8.8"
  }
 },
 "nbformat": 4,
 "nbformat_minor": 2
}
